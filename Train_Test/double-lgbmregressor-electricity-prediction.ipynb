{
 "cells": [
  {
   "cell_type": "markdown",
   "id": "95ea0bf2",
   "metadata": {
    "papermill": {
     "duration": 0.006266,
     "end_time": "2022-12-02T09:12:24.254441",
     "exception": false,
     "start_time": "2022-12-02T09:12:24.248175",
     "status": "completed"
    },
    "tags": []
   },
   "source": [
    "<center><img src=\"https://pbs.twimg.com/media/EGo-3oHXUAA9E9D.jpg\"></center>\n",
    "\n",
    "<center><h1>How Electricity Reaches Our Homes </h1></center>"
   ]
  },
  {
   "cell_type": "markdown",
   "id": "743079df",
   "metadata": {
    "papermill": {
     "duration": 0.004739,
     "end_time": "2022-12-02T09:12:24.263883",
     "exception": false,
     "start_time": "2022-12-02T09:12:24.259144",
     "status": "completed"
    },
    "tags": []
   },
   "source": [
    "# <span class=\"title-section w3-xxlarge\" id=\"imports\"> Importing Libraries 📚</span>\n",
    "<hr>"
   ]
  },
  {
   "cell_type": "code",
   "execution_count": 1,
   "id": "4e1dd760",
   "metadata": {
    "execution": {
     "iopub.execute_input": "2022-12-02T09:12:24.275287Z",
     "iopub.status.busy": "2022-12-02T09:12:24.274648Z",
     "iopub.status.idle": "2022-12-02T09:12:26.894228Z",
     "shell.execute_reply": "2022-12-02T09:12:26.893076Z"
    },
    "papermill": {
     "duration": 2.629075,
     "end_time": "2022-12-02T09:12:26.897600",
     "exception": false,
     "start_time": "2022-12-02T09:12:24.268525",
     "status": "completed"
    },
    "tags": []
   },
   "outputs": [
    {
     "data": {
      "text/html": [
       "<style type='text/css'>\n",
       ".datatable table.frame { margin-bottom: 0; }\n",
       ".datatable table.frame thead { border-bottom: none; }\n",
       ".datatable table.frame tr.coltypes td {  color: #FFFFFF;  line-height: 6px;  padding: 0 0.5em;}\n",
       ".datatable .bool    { background: #DDDD99; }\n",
       ".datatable .object  { background: #565656; }\n",
       ".datatable .int     { background: #5D9E5D; }\n",
       ".datatable .float   { background: #4040CC; }\n",
       ".datatable .str     { background: #CC4040; }\n",
       ".datatable .time    { background: #40CC40; }\n",
       ".datatable .row_index {  background: var(--jp-border-color3);  border-right: 1px solid var(--jp-border-color0);  color: var(--jp-ui-font-color3);  font-size: 9px;}\n",
       ".datatable .frame tbody td { text-align: left; }\n",
       ".datatable .frame tr.coltypes .row_index {  background: var(--jp-border-color0);}\n",
       ".datatable th:nth-child(2) { padding-left: 12px; }\n",
       ".datatable .hellipsis {  color: var(--jp-cell-editor-border-color);}\n",
       ".datatable .vellipsis {  background: var(--jp-layout-color0);  color: var(--jp-cell-editor-border-color);}\n",
       ".datatable .na {  color: var(--jp-cell-editor-border-color);  font-size: 80%;}\n",
       ".datatable .sp {  opacity: 0.25;}\n",
       ".datatable .footer { font-size: 9px; }\n",
       ".datatable .frame_dimensions {  background: var(--jp-border-color3);  border-top: 1px solid var(--jp-border-color0);  color: var(--jp-ui-font-color3);  display: inline-block;  opacity: 0.6;  padding: 1px 10px 1px 5px;}\n",
       ".datatable .frame thead tr.colnames {  background-image: url('data:image/png;base64,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');  background-repeat: repeat-x;  background-size: 14px;  height: 28px;}\n",
       "</style>\n"
      ],
      "text/plain": [
       "<IPython.core.display.HTML object>"
      ]
     },
     "metadata": {},
     "output_type": "display_data"
    }
   ],
   "source": [
    "import pandas as pd \n",
    "import os, gc\n",
    "import glob\n",
    "import lightgbm as lgb\n",
    "import xgboost\n",
    "from sklearn.linear_model import LinearRegression\n",
    "from tqdm.notebook import tqdm\n",
    "from sklearn.model_selection import train_test_split\n",
    "from sklearn.model_selection import KFold, StratifiedKFold\n",
    "from sklearn.metrics import mean_squared_error\n",
    "from sklearn.preprocessing import MinMaxScaler,RobustScaler\n",
    "import joblib\n",
    "from sklearn.metrics import log_loss\n"
   ]
  },
  {
   "cell_type": "markdown",
   "id": "597bde16",
   "metadata": {
    "papermill": {
     "duration": 0.00426,
     "end_time": "2022-12-02T09:12:26.906661",
     "exception": false,
     "start_time": "2022-12-02T09:12:26.902401",
     "status": "completed"
    },
    "tags": []
   },
   "source": [
    "# <span class=\"title-section w3-xxlarge\" id=\"loading\"> Loading Meta Data 🗂️ </span>\n",
    "<hr>"
   ]
  },
  {
   "cell_type": "code",
   "execution_count": 2,
   "id": "ad68559b",
   "metadata": {
    "execution": {
     "iopub.execute_input": "2022-12-02T09:12:26.917838Z",
     "iopub.status.busy": "2022-12-02T09:12:26.917417Z",
     "iopub.status.idle": "2022-12-02T09:12:27.768548Z",
     "shell.execute_reply": "2022-12-02T09:12:27.767594Z"
    },
    "papermill": {
     "duration": 0.859787,
     "end_time": "2022-12-02T09:12:27.771067",
     "exception": false,
     "start_time": "2022-12-02T09:12:26.911280",
     "status": "completed"
    },
    "tags": []
   },
   "outputs": [],
   "source": [
    "train_df = pd.read_csv('/kaggle/input/tfug-mysuruelectricity-generation-prediction/train.csv')\n",
    "test_df = pd.read_csv('/kaggle/input/tfug-mysuruelectricity-generation-prediction/test.csv')\n",
    "submission = pd.read_csv('/kaggle/input/tfug-mysuruelectricity-generation-prediction/sample_submission.csv')"
   ]
  },
  {
   "cell_type": "markdown",
   "id": "8fa173f8",
   "metadata": {
    "papermill": {
     "duration": 0.004373,
     "end_time": "2022-12-02T09:12:27.780448",
     "exception": false,
     "start_time": "2022-12-02T09:12:27.776075",
     "status": "completed"
    },
    "tags": []
   },
   "source": [
    "# <span class=\"title-section w3-xxlarge\" id=\"data_pipeline\"> Data Pipeline 🔧 </span>\n",
    "<hr>"
   ]
  },
  {
   "cell_type": "code",
   "execution_count": 3,
   "id": "2c3b3258",
   "metadata": {
    "execution": {
     "iopub.execute_input": "2022-12-02T09:12:27.792153Z",
     "iopub.status.busy": "2022-12-02T09:12:27.791142Z",
     "iopub.status.idle": "2022-12-02T09:12:27.823205Z",
     "shell.execute_reply": "2022-12-02T09:12:27.821810Z"
    },
    "papermill": {
     "duration": 0.04078,
     "end_time": "2022-12-02T09:12:27.826044",
     "exception": false,
     "start_time": "2022-12-02T09:12:27.785264",
     "status": "completed"
    },
    "tags": []
   },
   "outputs": [],
   "source": [
    "## to get the numeric representation of days\n",
    "train_df['obs_day'] = pd.factorize(train_df.iloc[: , -2])[0]\n",
    "test_df['obs_day'] = pd.factorize(test_df.iloc[: , -2])[0]"
   ]
  },
  {
   "cell_type": "code",
   "execution_count": 4,
   "id": "4ac1b095",
   "metadata": {
    "execution": {
     "iopub.execute_input": "2022-12-02T09:12:27.837081Z",
     "iopub.status.busy": "2022-12-02T09:12:27.836674Z",
     "iopub.status.idle": "2022-12-02T09:12:27.843333Z",
     "shell.execute_reply": "2022-12-02T09:12:27.842145Z"
    },
    "papermill": {
     "duration": 0.015192,
     "end_time": "2022-12-02T09:12:27.846000",
     "exception": false,
     "start_time": "2022-12-02T09:12:27.830808",
     "status": "completed"
    },
    "tags": []
   },
   "outputs": [],
   "source": [
    "## fix the problem of NaN by replacing NaN with 0, then replacing 0 with the median of that column \n",
    "def replace_median(train_df,features):\n",
    "    train_df=train_df.fillna(0) \n",
    "    for f in features:\n",
    "        train_df[f]=train_df[f].replace(0,train_df[f].mean())\n",
    "    return train_df"
   ]
  },
  {
   "cell_type": "code",
   "execution_count": 5,
   "id": "2199d2e8",
   "metadata": {
    "execution": {
     "iopub.execute_input": "2022-12-02T09:12:27.857101Z",
     "iopub.status.busy": "2022-12-02T09:12:27.856698Z",
     "iopub.status.idle": "2022-12-02T09:12:27.889348Z",
     "shell.execute_reply": "2022-12-02T09:12:27.888109Z"
    },
    "papermill": {
     "duration": 0.041354,
     "end_time": "2022-12-02T09:12:27.892227",
     "exception": false,
     "start_time": "2022-12-02T09:12:27.850873",
     "status": "completed"
    },
    "tags": []
   },
   "outputs": [],
   "source": [
    "ycol = 'output_gen'\n",
    "feature_names = list(filter(lambda x: x not in [ycol, 'id'], train_df.columns))\n",
    "train_df=replace_median(train_df,feature_names)"
   ]
  },
  {
   "cell_type": "code",
   "execution_count": 6,
   "id": "24d12867",
   "metadata": {
    "execution": {
     "iopub.execute_input": "2022-12-02T09:12:27.903660Z",
     "iopub.status.busy": "2022-12-02T09:12:27.903255Z",
     "iopub.status.idle": "2022-12-02T09:12:27.949378Z",
     "shell.execute_reply": "2022-12-02T09:12:27.947983Z"
    },
    "papermill": {
     "duration": 0.054859,
     "end_time": "2022-12-02T09:12:27.952049",
     "exception": false,
     "start_time": "2022-12-02T09:12:27.897190",
     "status": "completed"
    },
    "tags": []
   },
   "outputs": [],
   "source": [
    "scaler = MinMaxScaler()\n",
    "train_df[feature_names] = scaler.fit_transform(train_df[feature_names])\n",
    "test_df[feature_names] = scaler.transform(test_df[feature_names])"
   ]
  },
  {
   "cell_type": "markdown",
   "id": "55250505",
   "metadata": {
    "papermill": {
     "duration": 0.004632,
     "end_time": "2022-12-02T09:12:27.961653",
     "exception": false,
     "start_time": "2022-12-02T09:12:27.957021",
     "status": "completed"
    },
    "tags": []
   },
   "source": [
    "<h1> <span class=\"title-section w3-xxlarge\" id=\"the_models\"> Models Configuration ⚙️ </span> </h1>\n",
    "<hr>"
   ]
  },
  {
   "cell_type": "code",
   "execution_count": 7,
   "id": "5e5022e5",
   "metadata": {
    "execution": {
     "iopub.execute_input": "2022-12-02T09:12:27.973637Z",
     "iopub.status.busy": "2022-12-02T09:12:27.973263Z",
     "iopub.status.idle": "2022-12-02T09:12:27.983780Z",
     "shell.execute_reply": "2022-12-02T09:12:27.982406Z"
    },
    "papermill": {
     "duration": 0.019956,
     "end_time": "2022-12-02T09:12:27.986412",
     "exception": false,
     "start_time": "2022-12-02T09:12:27.966456",
     "status": "completed"
    },
    "tags": []
   },
   "outputs": [],
   "source": [
    "lgb_params_1 = {\n",
    "      'boosting_type':'gbdt',\n",
    "      'objective' :'regression',\n",
    "      'metric':'rmse',\n",
    "      'tree_learner':'serial',\n",
    "      'n_estimators':1000,\n",
    "      'num_leaves':64,\n",
    "      'max_depth':8,\n",
    "      'learning_rate':0.1,\n",
    "      'subsample':0.8,\n",
    "      'feature_fraction':0.6,\n",
    "      'reg_alpha':0.1,\n",
    "      'reg_lambda':0.1,\n",
    "      'random_state':2023\n",
    "}\n",
    "\n",
    "lgb_params_2 = {\n",
    "    'early_stopping_rounds': 50,\n",
    "    'objective': 'regression',\n",
    "    'metric': 'rmse',\n",
    "    'n_estimators':1000,\n",
    "    'boosting_type': 'gbdt',\n",
    "    'max_depth': 5,\n",
    "    'verbose': -1,\n",
    "    'max_bin':600,\n",
    "    'min_data_in_leaf':50,\n",
    "    'learning_rate': 0.03,\n",
    "    'subsample': 0.7,\n",
    "    'subsample_freq': 1,\n",
    "    'feature_fraction': 1,\n",
    "    'lambda_l1': 0.5,\n",
    "    'lambda_l2': 2,\n",
    "    'seed':2023,\n",
    "    'feature_fraction_seed': 2023,\n",
    "    'bagging_fraction_seed': 2023,\n",
    "    'drop_seed': 2023,\n",
    "    'data_random_seed': 2023,\n",
    "    'extra_trees': True,\n",
    "    'extra_seed': 2023,\n",
    "    'zero_as_missing': True,\n",
    "    \"first_metric_only\": True\n",
    "         }"
   ]
  },
  {
   "cell_type": "markdown",
   "id": "6a196f28",
   "metadata": {
    "papermill": {
     "duration": 0.004551,
     "end_time": "2022-12-02T09:12:27.996088",
     "exception": false,
     "start_time": "2022-12-02T09:12:27.991537",
     "status": "completed"
    },
    "tags": []
   },
   "source": [
    "<h1> <span class=\"title-section w3-xxlarge\" id=\"training\"> Training 🏋️</span> </h1>\n",
    "<h3> 🚨 Double LGBMRegressor 🚨 </h3>"
   ]
  },
  {
   "cell_type": "code",
   "execution_count": 8,
   "id": "c073f715",
   "metadata": {
    "_cell_guid": "88085a02-81a7-4050-a6e5-38e0a2905f68",
    "_uuid": "2ac14078-f8a2-459d-a023-65c963946237",
    "collapsed": false,
    "execution": {
     "iopub.execute_input": "2022-12-02T09:12:28.007563Z",
     "iopub.status.busy": "2022-12-02T09:12:28.007154Z",
     "iopub.status.idle": "2022-12-02T09:13:15.545899Z",
     "shell.execute_reply": "2022-12-02T09:13:15.544069Z"
    },
    "jupyter": {
     "outputs_hidden": false
    },
    "papermill": {
     "duration": 47.548952,
     "end_time": "2022-12-02T09:13:15.549858",
     "exception": false,
     "start_time": "2022-12-02T09:12:28.000906",
     "status": "completed"
    },
    "tags": []
   },
   "outputs": [
    {
     "name": "stdout",
     "output_type": "stream",
     "text": [
      "\n",
      "Model num :0\n",
      "fold num :0\n",
      "[LightGBM] [Warning] feature_fraction is set=0.6, colsample_bytree=1.0 will be ignored. Current value: feature_fraction=0.6\n"
     ]
    },
    {
     "name": "stderr",
     "output_type": "stream",
     "text": [
      "/opt/conda/lib/python3.7/site-packages/lightgbm/sklearn.py:726: UserWarning: 'early_stopping_rounds' argument is deprecated and will be removed in a future release of LightGBM. Pass 'early_stopping()' callback via 'callbacks' argument instead.\n",
      "  _log_warning(\"'early_stopping_rounds' argument is deprecated and will be removed in a future release of LightGBM. \"\n",
      "/opt/conda/lib/python3.7/site-packages/lightgbm/sklearn.py:736: UserWarning: 'verbose' argument is deprecated and will be removed in a future release of LightGBM. Pass 'log_evaluation()' callback via 'callbacks' argument instead.\n",
      "  _log_warning(\"'verbose' argument is deprecated and will be removed in a future release of LightGBM. \"\n"
     ]
    },
    {
     "name": "stdout",
     "output_type": "stream",
     "text": [
      "[1000]\ttrain's rmse: 1.10188\tvalid's rmse: 2.6333\n",
      "fold num :1\n",
      "[1000]\ttrain's rmse: 1.07847\tvalid's rmse: 4.74224\n",
      "fold num :2\n",
      "[1000]\ttrain's rmse: 1.11537\tvalid's rmse: 2.87208\n",
      "fold num :3\n",
      "[1000]\ttrain's rmse: 1.13248\tvalid's rmse: 3.8859\n",
      "fold num :4\n",
      "[1000]\ttrain's rmse: 1.12563\tvalid's rmse: 3.39725\n",
      "\n",
      "Model num :1\n",
      "fold num :0\n",
      "[1000]\ttrain's rmse: 6.97929\tvalid's rmse: 6.81601\n",
      "fold num :1\n",
      "[1000]\ttrain's rmse: 6.92709\tvalid's rmse: 7.3565\n",
      "fold num :2\n",
      "[1000]\ttrain's rmse: 6.77941\tvalid's rmse: 7.51745\n",
      "fold num :3\n",
      "[1000]\ttrain's rmse: 6.67321\tvalid's rmse: 7.50376\n",
      "fold num :4\n",
      "[1000]\ttrain's rmse: 6.843\tvalid's rmse: 7.1942\n"
     ]
    }
   ],
   "source": [
    "models = []\n",
    "saved_models=[]\n",
    "model1 = lgb.LGBMRegressor(**lgb_params_1)\n",
    "model2 = lgb.LGBMRegressor(**lgb_params_2)\n",
    "models.append(model1)\n",
    "models.append(model2)\n",
    "for model in models:\n",
    "    print('')\n",
    "    print(f'Model num :{models.index(model)}')\n",
    "    kfold =KFold(n_splits=5, shuffle=True, random_state=2022)\n",
    "    for fold_id, (trn_idx, val_idx) in enumerate(kfold.split(train_df[feature_names], train_df[ycol])):\n",
    "        print(f'fold num :{fold_id}')\n",
    "        X_train = train_df.iloc[trn_idx][feature_names]\n",
    "        Y_train = train_df.iloc[trn_idx][ycol]\n",
    "        X_val = train_df.iloc[val_idx][feature_names]\n",
    "        Y_val = train_df.iloc[val_idx][ycol]\n",
    "        lgb_model = model.fit(X_train,\n",
    "                              Y_train,\n",
    "                              eval_names=['train', 'valid'],\n",
    "                              eval_set=[(X_train, Y_train), (X_val, Y_val)],\n",
    "                              verbose=1000,\n",
    "                              eval_metric='rmse',\n",
    "                              early_stopping_rounds=50)\n",
    "        saved_models.append(lgb_model)\n",
    "        del lgb_model"
   ]
  },
  {
   "cell_type": "markdown",
   "id": "3368c38b",
   "metadata": {
    "papermill": {
     "duration": 0.005877,
     "end_time": "2022-12-02T09:13:15.562484",
     "exception": false,
     "start_time": "2022-12-02T09:13:15.556607",
     "status": "completed"
    },
    "tags": []
   },
   "source": [
    "# <span class=\"title-section w3-xxlarge\" id=\"first_infer\">Testing 🔥</span>\n",
    "<hr>"
   ]
  },
  {
   "cell_type": "code",
   "execution_count": 9,
   "id": "ad0a08d9",
   "metadata": {
    "_cell_guid": "3c50476d-8e02-47cc-a9ec-c388ea7086cc",
    "_uuid": "c667b738-2cf6-433a-a62a-1b1d95b8c641",
    "collapsed": false,
    "execution": {
     "iopub.execute_input": "2022-12-02T09:13:15.576817Z",
     "iopub.status.busy": "2022-12-02T09:13:15.575879Z",
     "iopub.status.idle": "2022-12-02T09:13:35.901841Z",
     "shell.execute_reply": "2022-12-02T09:13:35.900865Z"
    },
    "jupyter": {
     "outputs_hidden": false
    },
    "papermill": {
     "duration": 20.336523,
     "end_time": "2022-12-02T09:13:35.905055",
     "exception": false,
     "start_time": "2022-12-02T09:13:15.568532",
     "status": "completed"
    },
    "tags": []
   },
   "outputs": [],
   "source": [
    "avg_pred=sum([model.predict(test_df[feature_names]) for model in saved_models])/len(saved_models)"
   ]
  },
  {
   "cell_type": "markdown",
   "id": "6520ad7e",
   "metadata": {
    "papermill": {
     "duration": 0.006,
     "end_time": "2022-12-02T09:13:35.918463",
     "exception": false,
     "start_time": "2022-12-02T09:13:35.912463",
     "status": "completed"
    },
    "tags": []
   },
   "source": [
    "# <span class=\"title-section w3-xxlarge\" id=\"submit\"> Submitting to Kaggle 🇰</span>\n",
    "<hr>"
   ]
  },
  {
   "cell_type": "code",
   "execution_count": 10,
   "id": "9e9fe5dd",
   "metadata": {
    "_cell_guid": "f2a06295-9c8b-425e-88f3-55503532433d",
    "_uuid": "e051245c-7ffb-4441-814a-58e439440c66",
    "collapsed": false,
    "execution": {
     "iopub.execute_input": "2022-12-02T09:13:35.932313Z",
     "iopub.status.busy": "2022-12-02T09:13:35.931901Z",
     "iopub.status.idle": "2022-12-02T09:13:36.156011Z",
     "shell.execute_reply": "2022-12-02T09:13:36.154773Z"
    },
    "jupyter": {
     "outputs_hidden": false
    },
    "papermill": {
     "duration": 0.234201,
     "end_time": "2022-12-02T09:13:36.158775",
     "exception": false,
     "start_time": "2022-12-02T09:13:35.924574",
     "status": "completed"
    },
    "tags": []
   },
   "outputs": [],
   "source": [
    "sub = pd.read_csv('/kaggle/input/tfug-mysuruelectricity-generation-prediction/sample_submission.csv')\n",
    "sub['output_gen'] = avg_pred\n",
    "sub.to_csv('submission.csv', index=False)"
   ]
  }
 ],
 "metadata": {
  "kernelspec": {
   "display_name": "Python 3",
   "language": "python",
   "name": "python3"
  },
  "language_info": {
   "codemirror_mode": {
    "name": "ipython",
    "version": 3
   },
   "file_extension": ".py",
   "mimetype": "text/x-python",
   "name": "python",
   "nbconvert_exporter": "python",
   "pygments_lexer": "ipython3",
   "version": "3.7.12"
  },
  "papermill": {
   "default_parameters": {},
   "duration": 82.02632,
   "end_time": "2022-12-02T09:13:36.988525",
   "environment_variables": {},
   "exception": null,
   "input_path": "__notebook__.ipynb",
   "output_path": "__notebook__.ipynb",
   "parameters": {},
   "start_time": "2022-12-02T09:12:14.962205",
   "version": "2.3.4"
  }
 },
 "nbformat": 4,
 "nbformat_minor": 5
}
